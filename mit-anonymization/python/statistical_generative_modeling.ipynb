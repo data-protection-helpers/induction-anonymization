{
 "cells": [
  {
   "cell_type": "markdown",
   "metadata": {},
   "source": [
    "# Generative Modeling for Relational Databases\n",
    "\n",
    "Original article: https://dspace.mit.edu/handle/1721.1/109616"
   ]
  },
  {
   "cell_type": "markdown",
   "metadata": {},
   "source": [
    "The following notebook addresses a data-frame generation technique that uses a statistical generative model. It focuses on a standalone table meaning that the aim is to model the table independently of any other data. \n",
    "\n",
    "The number of attributes (number of columns) of the table will be referred to as $n$.\n",
    "\n",
    "This method will apply the following steps:\n",
    "\n",
    "- Data loading\n",
    "- Data pre-processing (converting categorical attributes to numerical)\n",
    "- Modeling and generation \n",
    "- Data post-processing (converting back numerical generated values to categorical)\n",
    "- Quality assessment of the generated data"
   ]
  },
  {
   "cell_type": "code",
   "execution_count": 1,
   "metadata": {},
   "outputs": [],
   "source": [
    "import pandas as pd\n",
    "import matplotlib.pyplot as plt\n",
    "import numpy as np\n",
    "import seaborn as sns\n",
    "import scipy\n",
    "import scipy.stats as stats\n",
    "from tqdm import tqdm\n",
    "from scipy.stats import exponweib\n",
    "from math import sqrt\n",
    "from scipy.stats.stats import pearsonr\n",
    "import warnings\n",
    "warnings.filterwarnings('ignore')"
   ]
  },
  {
   "cell_type": "markdown",
   "metadata": {},
   "source": [
    "## 1. Loading Data"
   ]
  },
  {
   "cell_type": "markdown",
   "metadata": {},
   "source": [
    "Loading a dataset"
   ]
  },
  {
   "cell_type": "code",
   "execution_count": 2,
   "metadata": {},
   "outputs": [
    {
     "name": "stdout",
     "output_type": "stream",
     "text": [
      "-rw-r--r-- 1 auriane auriane 4,4M juil.  7 14:58 ../data/statistical-generative-modeling-sample.csv.bz2\n"
     ]
    }
   ],
   "source": [
    "%%sh\n",
    "ls -laFh ../data/statistical-generative-modeling-sample.csv.bz2"
   ]
  },
  {
   "cell_type": "code",
   "execution_count": 3,
   "metadata": {},
   "outputs": [],
   "source": [
    "df = pd.read_csv(\"../data/statistical-generative-modeling-sample.csv.bz2\")"
   ]
  },
  {
   "cell_type": "code",
   "execution_count": 4,
   "metadata": {},
   "outputs": [
    {
     "data": {
      "text/html": [
       "<div>\n",
       "<style scoped>\n",
       "    .dataframe tbody tr th:only-of-type {\n",
       "        vertical-align: middle;\n",
       "    }\n",
       "\n",
       "    .dataframe tbody tr th {\n",
       "        vertical-align: top;\n",
       "    }\n",
       "\n",
       "    .dataframe thead th {\n",
       "        text-align: right;\n",
       "    }\n",
       "</style>\n",
       "<table border=\"1\" class=\"dataframe\">\n",
       "  <thead>\n",
       "    <tr style=\"text-align: right;\">\n",
       "      <th></th>\n",
       "      <th>SEATS</th>\n",
       "      <th>PASSENGERS</th>\n",
       "      <th>FREIGHT</th>\n",
       "      <th>DISTANCE</th>\n",
       "      <th>RAMP_TO_RAMP</th>\n",
       "      <th>AIR_TIME</th>\n",
       "      <th>UNIQUE_CARRIER</th>\n",
       "      <th>UNIQUE_CARRIER_NAME</th>\n",
       "      <th>ORIGIN_AIRPORT_ID</th>\n",
       "      <th>ORIGIN</th>\n",
       "      <th>DEST_AIRPORT_ID</th>\n",
       "      <th>DEST</th>\n",
       "      <th>AIRCRAFT_TYPE</th>\n",
       "      <th>MONTH</th>\n",
       "      <th>Unnamed: 14</th>\n",
       "    </tr>\n",
       "  </thead>\n",
       "  <tbody>\n",
       "    <tr>\n",
       "      <th>0</th>\n",
       "      <td>0.0</td>\n",
       "      <td>0.0</td>\n",
       "      <td>331088.0</td>\n",
       "      <td>216.0</td>\n",
       "      <td>1708.0</td>\n",
       "      <td>780.0</td>\n",
       "      <td>1TQ</td>\n",
       "      <td>Rhoades Aviation dba Transair</td>\n",
       "      <td>12173</td>\n",
       "      <td>HNL</td>\n",
       "      <td>12402</td>\n",
       "      <td>ITO</td>\n",
       "      <td>620</td>\n",
       "      <td>6</td>\n",
       "      <td>NaN</td>\n",
       "    </tr>\n",
       "    <tr>\n",
       "      <th>1</th>\n",
       "      <td>0.0</td>\n",
       "      <td>0.0</td>\n",
       "      <td>1081490.0</td>\n",
       "      <td>163.0</td>\n",
       "      <td>5695.0</td>\n",
       "      <td>1782.0</td>\n",
       "      <td>1TQ</td>\n",
       "      <td>Rhoades Aviation dba Transair</td>\n",
       "      <td>12173</td>\n",
       "      <td>HNL</td>\n",
       "      <td>12758</td>\n",
       "      <td>KOA</td>\n",
       "      <td>620</td>\n",
       "      <td>6</td>\n",
       "      <td>NaN</td>\n",
       "    </tr>\n",
       "    <tr>\n",
       "      <th>2</th>\n",
       "      <td>0.0</td>\n",
       "      <td>0.0</td>\n",
       "      <td>570900.0</td>\n",
       "      <td>102.0</td>\n",
       "      <td>2006.0</td>\n",
       "      <td>884.0</td>\n",
       "      <td>1TQ</td>\n",
       "      <td>Rhoades Aviation dba Transair</td>\n",
       "      <td>12173</td>\n",
       "      <td>HNL</td>\n",
       "      <td>12982</td>\n",
       "      <td>LIH</td>\n",
       "      <td>620</td>\n",
       "      <td>6</td>\n",
       "      <td>NaN</td>\n",
       "    </tr>\n",
       "    <tr>\n",
       "      <th>3</th>\n",
       "      <td>0.0</td>\n",
       "      <td>0.0</td>\n",
       "      <td>1206131.0</td>\n",
       "      <td>100.0</td>\n",
       "      <td>6146.0</td>\n",
       "      <td>1704.0</td>\n",
       "      <td>1TQ</td>\n",
       "      <td>Rhoades Aviation dba Transair</td>\n",
       "      <td>12173</td>\n",
       "      <td>HNL</td>\n",
       "      <td>13830</td>\n",
       "      <td>OGG</td>\n",
       "      <td>620</td>\n",
       "      <td>6</td>\n",
       "      <td>NaN</td>\n",
       "    </tr>\n",
       "    <tr>\n",
       "      <th>4</th>\n",
       "      <td>0.0</td>\n",
       "      <td>0.0</td>\n",
       "      <td>180778.0</td>\n",
       "      <td>216.0</td>\n",
       "      <td>2135.0</td>\n",
       "      <td>1092.0</td>\n",
       "      <td>1TQ</td>\n",
       "      <td>Rhoades Aviation dba Transair</td>\n",
       "      <td>12402</td>\n",
       "      <td>ITO</td>\n",
       "      <td>12173</td>\n",
       "      <td>HNL</td>\n",
       "      <td>620</td>\n",
       "      <td>6</td>\n",
       "      <td>NaN</td>\n",
       "    </tr>\n",
       "    <tr>\n",
       "      <th>...</th>\n",
       "      <td>...</td>\n",
       "      <td>...</td>\n",
       "      <td>...</td>\n",
       "      <td>...</td>\n",
       "      <td>...</td>\n",
       "      <td>...</td>\n",
       "      <td>...</td>\n",
       "      <td>...</td>\n",
       "      <td>...</td>\n",
       "      <td>...</td>\n",
       "      <td>...</td>\n",
       "      <td>...</td>\n",
       "      <td>...</td>\n",
       "      <td>...</td>\n",
       "      <td>...</td>\n",
       "    </tr>\n",
       "    <tr>\n",
       "      <th>394121</th>\n",
       "      <td>105984.0</td>\n",
       "      <td>81424.0</td>\n",
       "      <td>511764.0</td>\n",
       "      <td>100.0</td>\n",
       "      <td>34737.0</td>\n",
       "      <td>17951.0</td>\n",
       "      <td>HA</td>\n",
       "      <td>Hawaiian Airlines Inc.</td>\n",
       "      <td>12173</td>\n",
       "      <td>HNL</td>\n",
       "      <td>13830</td>\n",
       "      <td>OGG</td>\n",
       "      <td>608</td>\n",
       "      <td>3</td>\n",
       "      <td>NaN</td>\n",
       "    </tr>\n",
       "    <tr>\n",
       "      <th>394122</th>\n",
       "      <td>106368.0</td>\n",
       "      <td>74321.0</td>\n",
       "      <td>143112.0</td>\n",
       "      <td>100.0</td>\n",
       "      <td>33693.0</td>\n",
       "      <td>19865.0</td>\n",
       "      <td>HA</td>\n",
       "      <td>Hawaiian Airlines Inc.</td>\n",
       "      <td>13830</td>\n",
       "      <td>OGG</td>\n",
       "      <td>12173</td>\n",
       "      <td>HNL</td>\n",
       "      <td>608</td>\n",
       "      <td>10</td>\n",
       "      <td>NaN</td>\n",
       "    </tr>\n",
       "    <tr>\n",
       "      <th>394123</th>\n",
       "      <td>106752.0</td>\n",
       "      <td>71430.0</td>\n",
       "      <td>600636.0</td>\n",
       "      <td>100.0</td>\n",
       "      <td>35319.0</td>\n",
       "      <td>18013.0</td>\n",
       "      <td>HA</td>\n",
       "      <td>Hawaiian Airlines Inc.</td>\n",
       "      <td>12173</td>\n",
       "      <td>HNL</td>\n",
       "      <td>13830</td>\n",
       "      <td>OGG</td>\n",
       "      <td>608</td>\n",
       "      <td>10</td>\n",
       "      <td>NaN</td>\n",
       "    </tr>\n",
       "    <tr>\n",
       "      <th>394124</th>\n",
       "      <td>107904.0</td>\n",
       "      <td>77703.0</td>\n",
       "      <td>478682.0</td>\n",
       "      <td>100.0</td>\n",
       "      <td>34822.0</td>\n",
       "      <td>18338.0</td>\n",
       "      <td>HA</td>\n",
       "      <td>Hawaiian Airlines Inc.</td>\n",
       "      <td>12173</td>\n",
       "      <td>HNL</td>\n",
       "      <td>13830</td>\n",
       "      <td>OGG</td>\n",
       "      <td>608</td>\n",
       "      <td>5</td>\n",
       "      <td>NaN</td>\n",
       "    </tr>\n",
       "    <tr>\n",
       "      <th>394125</th>\n",
       "      <td>108032.0</td>\n",
       "      <td>77989.0</td>\n",
       "      <td>137403.0</td>\n",
       "      <td>100.0</td>\n",
       "      <td>32864.0</td>\n",
       "      <td>19668.0</td>\n",
       "      <td>HA</td>\n",
       "      <td>Hawaiian Airlines Inc.</td>\n",
       "      <td>13830</td>\n",
       "      <td>OGG</td>\n",
       "      <td>12173</td>\n",
       "      <td>HNL</td>\n",
       "      <td>608</td>\n",
       "      <td>5</td>\n",
       "      <td>NaN</td>\n",
       "    </tr>\n",
       "  </tbody>\n",
       "</table>\n",
       "<p>394126 rows × 15 columns</p>\n",
       "</div>"
      ],
      "text/plain": [
       "           SEATS  PASSENGERS    FREIGHT  DISTANCE  RAMP_TO_RAMP  AIR_TIME  \\\n",
       "0            0.0         0.0   331088.0     216.0        1708.0     780.0   \n",
       "1            0.0         0.0  1081490.0     163.0        5695.0    1782.0   \n",
       "2            0.0         0.0   570900.0     102.0        2006.0     884.0   \n",
       "3            0.0         0.0  1206131.0     100.0        6146.0    1704.0   \n",
       "4            0.0         0.0   180778.0     216.0        2135.0    1092.0   \n",
       "...          ...         ...        ...       ...           ...       ...   \n",
       "394121  105984.0     81424.0   511764.0     100.0       34737.0   17951.0   \n",
       "394122  106368.0     74321.0   143112.0     100.0       33693.0   19865.0   \n",
       "394123  106752.0     71430.0   600636.0     100.0       35319.0   18013.0   \n",
       "394124  107904.0     77703.0   478682.0     100.0       34822.0   18338.0   \n",
       "394125  108032.0     77989.0   137403.0     100.0       32864.0   19668.0   \n",
       "\n",
       "       UNIQUE_CARRIER            UNIQUE_CARRIER_NAME  ORIGIN_AIRPORT_ID  \\\n",
       "0                 1TQ  Rhoades Aviation dba Transair              12173   \n",
       "1                 1TQ  Rhoades Aviation dba Transair              12173   \n",
       "2                 1TQ  Rhoades Aviation dba Transair              12173   \n",
       "3                 1TQ  Rhoades Aviation dba Transair              12173   \n",
       "4                 1TQ  Rhoades Aviation dba Transair              12402   \n",
       "...               ...                            ...                ...   \n",
       "394121             HA         Hawaiian Airlines Inc.              12173   \n",
       "394122             HA         Hawaiian Airlines Inc.              13830   \n",
       "394123             HA         Hawaiian Airlines Inc.              12173   \n",
       "394124             HA         Hawaiian Airlines Inc.              12173   \n",
       "394125             HA         Hawaiian Airlines Inc.              13830   \n",
       "\n",
       "       ORIGIN  DEST_AIRPORT_ID DEST  AIRCRAFT_TYPE  MONTH  Unnamed: 14  \n",
       "0         HNL            12402  ITO            620      6          NaN  \n",
       "1         HNL            12758  KOA            620      6          NaN  \n",
       "2         HNL            12982  LIH            620      6          NaN  \n",
       "3         HNL            13830  OGG            620      6          NaN  \n",
       "4         ITO            12173  HNL            620      6          NaN  \n",
       "...       ...              ...  ...            ...    ...          ...  \n",
       "394121    HNL            13830  OGG            608      3          NaN  \n",
       "394122    OGG            12173  HNL            608     10          NaN  \n",
       "394123    HNL            13830  OGG            608     10          NaN  \n",
       "394124    HNL            13830  OGG            608      5          NaN  \n",
       "394125    OGG            12173  HNL            608      5          NaN  \n",
       "\n",
       "[394126 rows x 15 columns]"
      ]
     },
     "execution_count": 4,
     "metadata": {},
     "output_type": "execute_result"
    }
   ],
   "source": [
    "df"
   ]
  },
  {
   "cell_type": "markdown",
   "metadata": {},
   "source": [
    "For the purpose of this demonstration we reduce the size of the dataset in order to reduce computation times. The number of attributes is also reduced to focus on illustrative purposes."
   ]
  },
  {
   "cell_type": "code",
   "execution_count": 5,
   "metadata": {},
   "outputs": [],
   "source": [
    "reduced_size = 500"
   ]
  },
  {
   "cell_type": "code",
   "execution_count": 6,
   "metadata": {},
   "outputs": [],
   "source": [
    "df_sample = df[[\"DISTANCE\", \"ORIGIN_AIRPORT_ID\", \"DEST_AIRPORT_ID\"]][:reduced_size]"
   ]
  },
  {
   "cell_type": "markdown",
   "metadata": {},
   "source": [
    "We display the reduced data-frame:"
   ]
  },
  {
   "cell_type": "code",
   "execution_count": 7,
   "metadata": {},
   "outputs": [
    {
     "data": {
      "text/html": [
       "<div>\n",
       "<style scoped>\n",
       "    .dataframe tbody tr th:only-of-type {\n",
       "        vertical-align: middle;\n",
       "    }\n",
       "\n",
       "    .dataframe tbody tr th {\n",
       "        vertical-align: top;\n",
       "    }\n",
       "\n",
       "    .dataframe thead th {\n",
       "        text-align: right;\n",
       "    }\n",
       "</style>\n",
       "<table border=\"1\" class=\"dataframe\">\n",
       "  <thead>\n",
       "    <tr style=\"text-align: right;\">\n",
       "      <th></th>\n",
       "      <th>DISTANCE</th>\n",
       "      <th>ORIGIN_AIRPORT_ID</th>\n",
       "      <th>DEST_AIRPORT_ID</th>\n",
       "    </tr>\n",
       "  </thead>\n",
       "  <tbody>\n",
       "    <tr>\n",
       "      <th>0</th>\n",
       "      <td>216.0</td>\n",
       "      <td>12173</td>\n",
       "      <td>12402</td>\n",
       "    </tr>\n",
       "    <tr>\n",
       "      <th>1</th>\n",
       "      <td>163.0</td>\n",
       "      <td>12173</td>\n",
       "      <td>12758</td>\n",
       "    </tr>\n",
       "    <tr>\n",
       "      <th>2</th>\n",
       "      <td>102.0</td>\n",
       "      <td>12173</td>\n",
       "      <td>12982</td>\n",
       "    </tr>\n",
       "    <tr>\n",
       "      <th>3</th>\n",
       "      <td>100.0</td>\n",
       "      <td>12173</td>\n",
       "      <td>13830</td>\n",
       "    </tr>\n",
       "    <tr>\n",
       "      <th>4</th>\n",
       "      <td>216.0</td>\n",
       "      <td>12402</td>\n",
       "      <td>12173</td>\n",
       "    </tr>\n",
       "    <tr>\n",
       "      <th>...</th>\n",
       "      <td>...</td>\n",
       "      <td>...</td>\n",
       "      <td>...</td>\n",
       "    </tr>\n",
       "    <tr>\n",
       "      <th>495</th>\n",
       "      <td>122.0</td>\n",
       "      <td>10551</td>\n",
       "      <td>14282</td>\n",
       "    </tr>\n",
       "    <tr>\n",
       "      <th>496</th>\n",
       "      <td>145.0</td>\n",
       "      <td>10551</td>\n",
       "      <td>14718</td>\n",
       "    </tr>\n",
       "    <tr>\n",
       "      <th>497</th>\n",
       "      <td>38.0</td>\n",
       "      <td>10551</td>\n",
       "      <td>15257</td>\n",
       "    </tr>\n",
       "    <tr>\n",
       "      <th>498</th>\n",
       "      <td>117.0</td>\n",
       "      <td>10551</td>\n",
       "      <td>15282</td>\n",
       "    </tr>\n",
       "    <tr>\n",
       "      <th>499</th>\n",
       "      <td>117.0</td>\n",
       "      <td>10551</td>\n",
       "      <td>15282</td>\n",
       "    </tr>\n",
       "  </tbody>\n",
       "</table>\n",
       "<p>500 rows × 3 columns</p>\n",
       "</div>"
      ],
      "text/plain": [
       "     DISTANCE  ORIGIN_AIRPORT_ID  DEST_AIRPORT_ID\n",
       "0       216.0              12173            12402\n",
       "1       163.0              12173            12758\n",
       "2       102.0              12173            12982\n",
       "3       100.0              12173            13830\n",
       "4       216.0              12402            12173\n",
       "..        ...                ...              ...\n",
       "495     122.0              10551            14282\n",
       "496     145.0              10551            14718\n",
       "497      38.0              10551            15257\n",
       "498     117.0              10551            15282\n",
       "499     117.0              10551            15282\n",
       "\n",
       "[500 rows x 3 columns]"
      ]
     },
     "execution_count": 7,
     "metadata": {},
     "output_type": "execute_result"
    }
   ],
   "source": [
    "df_sample"
   ]
  },
  {
   "cell_type": "markdown",
   "metadata": {},
   "source": [
    "## 2. Useful functions"
   ]
  },
  {
   "cell_type": "markdown",
   "metadata": {},
   "source": [
    "Following are some useful functions that will be used throughout this notebook:"
   ]
  },
  {
   "cell_type": "markdown",
   "metadata": {},
   "source": [
    "Draws a value according to a gaussian truncated distribution with given parameters:"
   ]
  },
  {
   "cell_type": "code",
   "execution_count": 8,
   "metadata": {},
   "outputs": [],
   "source": [
    "def gauss_truncated(lower, upper, mu, sigma):\n",
    "    \n",
    "    \"\"\"\n",
    "    Computes a value according to a gaussian truncated distribution\n",
    "    :param lower: (float) lower bound  \n",
    "    :param upper: (float) upper bound\n",
    "    :param mu: (float) mean of the gaussian\n",
    "    :param sigma: (float) standard deviation of the gaussian\n",
    "    :return: (float) x, value drawn according to gaussian truncated distribution\n",
    "    \"\"\"\n",
    "    \n",
    "    X = stats.truncnorm((lower - mu) / sigma, (upper - mu) / sigma, loc=mu, scale=sigma)\n",
    "    x = X.rvs()\n",
    "    return x"
   ]
  },
  {
   "cell_type": "markdown",
   "metadata": {},
   "source": [
    "Checks if a matrix is symmetric, and positive definite:"
   ]
  },
  {
   "cell_type": "code",
   "execution_count": 9,
   "metadata": {},
   "outputs": [],
   "source": [
    "def is_symmetric(M, rtol=1e-05, atol=1e-08):\n",
    "    return np.allclose(M, M.T, rtol=rtol, atol=atol)\n",
    "\n",
    "def is_pos_def(M):\n",
    "    return np.all(np.linalg.eigvals(M) > 0)"
   ]
  },
  {
   "cell_type": "markdown",
   "metadata": {},
   "source": [
    "Computes Cholesky decomposition of symmetric positive definite matrix:"
   ]
  },
  {
   "cell_type": "code",
   "execution_count": 10,
   "metadata": {},
   "outputs": [],
   "source": [
    "def cholesky(M):\n",
    "    \n",
    "    \"\"\"\n",
    "    Performs Cholesky decomposition of a matrix\n",
    "    :param M: symmetric and positive definite matrix\n",
    "    :return: lower triangular matrix L from the decomposition\n",
    "    \"\"\"\n",
    "        \n",
    "    assert is_symmetric(M), \"The matrix for Cholesky decomposition is not symmetric\"\n",
    "    assert is_pos_def(M), \"The matrix for Cholesky decomposition is not positive definite\"\n",
    "    \n",
    "    n = len(M)\n",
    "    L = np.zeros((n, n))\n",
    "\n",
    "    # performs the Cholesky decomposition\n",
    "    for i in range(n):\n",
    "        for k in range(i+1):\n",
    "            tmp_sum = sum(L[i][j] * L[k][j] for j in range(k))\n",
    "            \n",
    "            if (i == k): \n",
    "                L[i][k] = sqrt(M[i][i] - tmp_sum)\n",
    "            else:\n",
    "                L[i][k] = (1.0 / L[k][k] * (M[i][k] - tmp_sum))\n",
    "    return L"
   ]
  },
  {
   "cell_type": "markdown",
   "metadata": {},
   "source": [
    "Functions for graphical display:"
   ]
  },
  {
   "cell_type": "code",
   "execution_count": 11,
   "metadata": {},
   "outputs": [],
   "source": [
    "def remove_ticks(ax):\n",
    "    ax.xaxis.set_ticks_position('none')\n",
    "    ax.yaxis.set_ticks_position('none')\n",
    "    \n",
    "def remove_splines(ax, spl):\n",
    "    for s in spl:\n",
    "        ax.spines[s].set_visible(False)  \n",
    "\n",
    "def modify_splines(ax, lwd, col):    \n",
    "    for s in ['bottom', 'left','top','right']:\n",
    "        ax.spines[s].set_linewidth(lwd)\n",
    "        ax.spines[s].set_color(col) "
   ]
  },
  {
   "cell_type": "markdown",
   "metadata": {},
   "source": [
    "## 3. Data pre-processing"
   ]
  },
  {
   "cell_type": "markdown",
   "metadata": {},
   "source": [
    "### Converting categorical data to numerical "
   ]
  },
  {
   "cell_type": "markdown",
   "metadata": {},
   "source": [
    "The dataset from which we want to generate data might contain different types of values:\n",
    "- Numerical: values that have meaning as a measurement (distance, gross weight etc.)\n",
    "- Categorical: a collection of information that is divided into groups (origin country code, etc.). They can take numerical values but those numbers don't have mathematical meaning\n",
    "\n",
    "For example, in our toy data-frame, \"ORIGIN_AIRPORT_ID\" and \"DEST_AIRPORT_ID\" are categorical data.\n",
    "\n",
    "The issue is that a statistical model cannot be directly built from categorical data. This is why we have to convert categorical data to numerical."
   ]
  },
  {
   "cell_type": "markdown",
   "metadata": {},
   "source": [
    "_To do: automate getting categorical fields thanks to metadata. For now, categorical attributes manually assessed in the categorical_fields list._"
   ]
  },
  {
   "cell_type": "code",
   "execution_count": 12,
   "metadata": {},
   "outputs": [],
   "source": [
    "categorical_fields = [\"ORIGIN_AIRPORT_ID\", \"DEST_AIRPORT_ID\"]"
   ]
  },
  {
   "cell_type": "markdown",
   "metadata": {},
   "source": [
    "All categorical attributes are converted to numerical [0,1] values using the following method:\n",
    "- Discrete values are first sorted in descending order based on their proportion in the dataset. \n",
    "- The [0,1] interval is split into disjoint sections $[a_c,b_c]$ based on the proportion of each category c. \n",
    "\n",
    "Then to convert a categorical attribute we follow these steps for each row:\n",
    "- we find the interval $[a_c, b_c]$ that corresponds to the categorical value.\n",
    "- we sample a numerical value from a truncated Gaussian distribution with $\\mu$ as the center of the interval and $\\sigma = \\frac{b_c-a_c}{6}$"
   ]
  },
  {
   "cell_type": "code",
   "execution_count": 13,
   "metadata": {},
   "outputs": [],
   "source": [
    "def categorical_to_numerical(df, categorical_fields):\n",
    "    \n",
    "    \n",
    "    \"\"\"\n",
    "    Converts categorical data attributes to numerical\n",
    "    :param df: initial pandas data-frame  \n",
    "    :param categorical_fields: list of strings (attributes names that will be converted from categorical\n",
    "    to numerical\n",
    "    :return:  dictionary where keys are names of numerical fields computed from categorical, and values are\n",
    "    pandas data-frames with sorted categorical values and corresponding intervals\n",
    "    \"\"\"\n",
    "    \n",
    "\n",
    "    transitional_dfs = {}\n",
    "    df_categorical = df.copy()\n",
    "    \n",
    "    for categorical_field in categorical_fields:\n",
    "        \n",
    "        assert (categorical_field in df), \"This field doesn't exist in the database\"\n",
    "\n",
    "        # adding empty column for new numerical field\n",
    "        df_categorical[categorical_field + \"_NUM\"] = 0\n",
    "\n",
    "        #data-frame of unique discrete values from categorical field and associated proportions (decreasing order)\n",
    "        unique_values_df = df[categorical_field\\\n",
    "                             ].value_counts(normalize=True).rename_axis('unique_values').reset_index(name='counts')\n",
    "        \n",
    "        # building the intervals\n",
    "        unique_values_df[\"interval_down\"] = \"\"\n",
    "        unique_values_df[\"interval_up\"] = \"\"\n",
    "        for index, row in unique_values_df.iterrows():\n",
    "            if index == 0:\n",
    "                unique_values_df.loc[index, \"interval_down\"] = 0\n",
    "                unique_values_df.loc[index, \"interval_up\"] = row[\"counts\"]   \n",
    "            else:\n",
    "                unique_values_df.loc[index, \"interval_down\"] =  \\\n",
    "                    unique_values_df[index-1:index][\"interval_up\"].item()\n",
    "                unique_values_df.loc[index, \"interval_up\"] = \\\n",
    "                    unique_values_df[index-1:index][\"interval_up\"].item() + row[\"counts\"]\n",
    "        \n",
    "        transitional_dfs[categorical_field + \"_NUM\"] = unique_values_df\n",
    "        \n",
    "        # filling new numerical column\n",
    "        for index, row in df.iterrows():\n",
    "            value = row[categorical_field]\n",
    "            i = unique_values_df[unique_values_df[\"unique_values\"] == value].index.tolist()[0]\n",
    "\n",
    "            # drawing value from truncated gaussian distribution\n",
    "            a = unique_values_df[i:i+1][\"interval_down\"].item()\n",
    "            b = unique_values_df[i:i+1][\"interval_up\"].item()\n",
    "            mu = a + (b-a)/2\n",
    "            sigma = (b-a)/6\n",
    "            x = gauss_truncated(a, b, mu, sigma)\n",
    "            df_categorical.loc[index, categorical_field + \"_NUM\"] = x\n",
    "        df_categorical = df_categorical.drop(categorical_field, axis=1)\n",
    "        \n",
    "    return df_categorical, transitional_dfs"
   ]
  },
  {
   "cell_type": "code",
   "execution_count": 14,
   "metadata": {},
   "outputs": [],
   "source": [
    "df_sample_num, transitional_dfs = categorical_to_numerical(df_sample, categorical_fields)"
   ]
  },
  {
   "cell_type": "markdown",
   "metadata": {},
   "source": [
    "We display the sample data-frame where categorical fields (here there are two: \"ORIGIN_AIRPORT_ID\" and \"DEST_AIRPORT_ID\") have been converted to numerical fields:"
   ]
  },
  {
   "cell_type": "code",
   "execution_count": 15,
   "metadata": {},
   "outputs": [
    {
     "data": {
      "text/html": [
       "<div>\n",
       "<style scoped>\n",
       "    .dataframe tbody tr th:only-of-type {\n",
       "        vertical-align: middle;\n",
       "    }\n",
       "\n",
       "    .dataframe tbody tr th {\n",
       "        vertical-align: top;\n",
       "    }\n",
       "\n",
       "    .dataframe thead th {\n",
       "        text-align: right;\n",
       "    }\n",
       "</style>\n",
       "<table border=\"1\" class=\"dataframe\">\n",
       "  <thead>\n",
       "    <tr style=\"text-align: right;\">\n",
       "      <th></th>\n",
       "      <th>DISTANCE</th>\n",
       "      <th>ORIGIN_AIRPORT_ID_NUM</th>\n",
       "      <th>DEST_AIRPORT_ID_NUM</th>\n",
       "    </tr>\n",
       "  </thead>\n",
       "  <tbody>\n",
       "    <tr>\n",
       "      <th>0</th>\n",
       "      <td>216.0</td>\n",
       "      <td>0.421907</td>\n",
       "      <td>0.493334</td>\n",
       "    </tr>\n",
       "    <tr>\n",
       "      <th>1</th>\n",
       "      <td>163.0</td>\n",
       "      <td>0.422821</td>\n",
       "      <td>0.503769</td>\n",
       "    </tr>\n",
       "    <tr>\n",
       "      <th>2</th>\n",
       "      <td>102.0</td>\n",
       "      <td>0.418035</td>\n",
       "      <td>0.532823</td>\n",
       "    </tr>\n",
       "    <tr>\n",
       "      <th>3</th>\n",
       "      <td>100.0</td>\n",
       "      <td>0.424159</td>\n",
       "      <td>0.444687</td>\n",
       "    </tr>\n",
       "    <tr>\n",
       "      <th>4</th>\n",
       "      <td>216.0</td>\n",
       "      <td>0.538417</td>\n",
       "      <td>0.247068</td>\n",
       "    </tr>\n",
       "    <tr>\n",
       "      <th>...</th>\n",
       "      <td>...</td>\n",
       "      <td>...</td>\n",
       "      <td>...</td>\n",
       "    </tr>\n",
       "    <tr>\n",
       "      <th>495</th>\n",
       "      <td>122.0</td>\n",
       "      <td>0.265670</td>\n",
       "      <td>0.920597</td>\n",
       "    </tr>\n",
       "    <tr>\n",
       "      <th>496</th>\n",
       "      <td>145.0</td>\n",
       "      <td>0.246010</td>\n",
       "      <td>0.994978</td>\n",
       "    </tr>\n",
       "    <tr>\n",
       "      <th>497</th>\n",
       "      <td>38.0</td>\n",
       "      <td>0.264512</td>\n",
       "      <td>0.897150</td>\n",
       "    </tr>\n",
       "    <tr>\n",
       "      <th>498</th>\n",
       "      <td>117.0</td>\n",
       "      <td>0.260686</td>\n",
       "      <td>0.769247</td>\n",
       "    </tr>\n",
       "    <tr>\n",
       "      <th>499</th>\n",
       "      <td>117.0</td>\n",
       "      <td>0.252734</td>\n",
       "      <td>0.768329</td>\n",
       "    </tr>\n",
       "  </tbody>\n",
       "</table>\n",
       "<p>500 rows × 3 columns</p>\n",
       "</div>"
      ],
      "text/plain": [
       "     DISTANCE  ORIGIN_AIRPORT_ID_NUM  DEST_AIRPORT_ID_NUM\n",
       "0       216.0               0.421907             0.493334\n",
       "1       163.0               0.422821             0.503769\n",
       "2       102.0               0.418035             0.532823\n",
       "3       100.0               0.424159             0.444687\n",
       "4       216.0               0.538417             0.247068\n",
       "..        ...                    ...                  ...\n",
       "495     122.0               0.265670             0.920597\n",
       "496     145.0               0.246010             0.994978\n",
       "497      38.0               0.264512             0.897150\n",
       "498     117.0               0.260686             0.769247\n",
       "499     117.0               0.252734             0.768329\n",
       "\n",
       "[500 rows x 3 columns]"
      ]
     },
     "execution_count": 15,
     "metadata": {},
     "output_type": "execute_result"
    }
   ],
   "source": [
    "df_sample_num"
   ]
  },
  {
   "cell_type": "markdown",
   "metadata": {},
   "source": [
    "## 4. Modeling and generation"
   ]
  },
  {
   "cell_type": "markdown",
   "metadata": {},
   "source": [
    "We can now start building our model. "
   ]
  },
  {
   "cell_type": "markdown",
   "metadata": {},
   "source": [
    "We will first begin by computing for each attribute, the distribution and parameters (according to a predefined list of known distributions) that best fits the empirical distribution.\n",
    "\n",
    "We will then convert all of the column distributions to standard normal distributions, in order to compute the covariance matrix of different attributes without any bias that would be induced by the shapes of the distributions. \n",
    "\n",
    "\n",
    "After this is done, we can generate new rows."
   ]
  },
  {
   "cell_type": "code",
   "execution_count": 16,
   "metadata": {},
   "outputs": [],
   "source": [
    "class Distribution(object):\n",
    "    \n",
    "    \n",
    "    \"\"\"\n",
    "    Given an initial set of data, computes the best fitted distribution and corresponding parameters \n",
    "    from predefined list of known distributions\n",
    "    \"\"\"\n",
    "    \n",
    "    \n",
    "    def __init__(self,distr_names_list=[\"norm\", \"lognorm\", \"expon\", \"uniform\", \"truncnorm\", \\\n",
    "                                       \"exponweib\", \"weibull_max\", \"weibull_min\", \"pareto\", \"genextreme\"]):\n",
    "        self.distr_names = distr_names_list\n",
    "        self.distr_results = []\n",
    "        self.params = {}\n",
    "        self.distribution_name = \"\"\n",
    "        self.pvalue = 0\n",
    "        self.param = None\n",
    "        self.is_fitted = False\n",
    "        \n",
    "        \n",
    "    def fit(self, initial_data):\n",
    "        \n",
    "        \"\"\"\n",
    "        :param initial_data: pandas series of initial data that has to be fitted \n",
    "        :return: name of the distribution that fits the best and associated p value (computed by ks test)\n",
    "        \"\"\"\n",
    "        \n",
    "        #going through all distributions\n",
    "        for distr_name in self.distr_names:\n",
    "            \n",
    "            # best parameters for this distribution\n",
    "            distr = getattr(stats, distr_name)\n",
    "            param = distr.fit(initial_data)\n",
    "            self.params[distr_name] = param\n",
    "            \n",
    "            #Kolmogorov-Smirnov test for these parameters\n",
    "            D, p = stats.kstest(initial_data, distr_name, args=param)\n",
    "            self.distr_results.append((distr_name,p))\n",
    "            \n",
    "        #select the best fitted distribution\n",
    "        best_distr, best_p = (max(self.distr_results,key=lambda tup:tup[1]))\n",
    "        \n",
    "        #store the name of the best fit and its p value and parameters\n",
    "        self.distribution_name = best_distr\n",
    "        self.pvalue = best_p\n",
    "        self.param = self.params[best_distr]\n",
    "        self.is_fitted = True\n",
    "        \n",
    "        return self.distribution_name, self.pvalue\n",
    "    \n",
    "    \n",
    "    def random(self, n = 1):\n",
    "        \n",
    "        \"\"\"\n",
    "        :param n: int, number of samples that will be drawn according to the best fitted distribution\n",
    "        :return: array of samples drawn according to the best fitted distribution\n",
    "        \"\"\"\n",
    "        \n",
    "        if self.is_fitted:\n",
    "            param = self.params[self.distribution_name]\n",
    "            distr = getattr(scipy.stats, self.distribution_name)\n",
    "            return distr.rvs(*param[:-2], loc=param[-2], scale=param[-1], size=n)\n",
    "        else:\n",
    "            raise ValueError('Must first run the fit method.')\n",
    "          \n",
    "        \n",
    "    def plot(self,initial_data, name, ax, fitted_distr=True, lab=\"Actual\"):\n",
    "        \n",
    "        \"\"\"\n",
    "        :param initial_data: pandas series of initial data that has to be fitted\n",
    "        :param name: string of the name of the attribute that is being fitted\n",
    "        :pram ax: matplotlib ax for display\n",
    "        :param fitted_distr: bool (indicates is fitted distribution is plotted on top of initial distribution)\n",
    "        :param lab: string, label for initial data\n",
    "        \"\"\"  \n",
    "        \n",
    "        # for graphic view\n",
    "        remove_ticks(ax)\n",
    "        modify_splines(ax, lwd=0.75, col='0.8')\n",
    "        remove_splines(ax, ['top','right'])\n",
    "        ax.patch.set_facecolor('0.93')\n",
    "        ax.grid(True, 'major', color='0.98', linestyle='-', linewidth=1.0)\n",
    "        ax.set_axisbelow(True)\n",
    "        \n",
    "        \n",
    "        x = self.random(n=len(initial_data))\n",
    "        if fitted_distr:\n",
    "            ax.hist(x, bins=30, alpha=0.4, label='Fitted', density=True, ec=\"k\", histtype='stepfilled')\n",
    "        ax.hist(initial_data, bins=30, alpha=0.4, label=lab, density=True, ec=\"k\", histtype='stepfilled')\n",
    "        ax.set_title(name)\n",
    "        ax.legend(loc='upper right')"
   ]
  },
  {
   "cell_type": "code",
   "execution_count": 17,
   "metadata": {},
   "outputs": [],
   "source": [
    "class Model():\n",
    "    \n",
    "    \"\"\"\n",
    "    Computes the generative model from an initial data-frame\n",
    "    \"\"\"\n",
    "    \n",
    "    def __init__(self, dataframe):\n",
    "        self.df = dataframe\n",
    "        self.df_normed = pd.DataFrame(columns=self.df.columns)\n",
    "        self.distributions = {}\n",
    "        self.distr_computed = False\n",
    "        \n",
    "        \n",
    "    def compute_distributions(self, display_results=True):\n",
    "        \n",
    "        \"\"\"\n",
    "        Computes the best fitted distribution for each attribute and prints its name, associated p value\n",
    "        (computed from ks test), and parameters\n",
    "        :param display_results: bool that indicates whether information on the fitted distribution will be printed\n",
    "        \"\"\"\n",
    "        \n",
    "        for attribute in self.df:\n",
    "            distr= Distribution()\n",
    "            distr.fit(self.df[attribute])\n",
    "            self.distributions[attribute] = distr\n",
    "            self.distr_computed = True\n",
    "            if display_results:\n",
    "                print(\"The distribution that fits the best attribute \"+ attribute + \" is \"+ distr.distribution_name)\n",
    "                print(\"The pvalue is\", distr.pvalue, \" with the following parametrers:\", distr.param)\n",
    "                print(\"\\n\")\n",
    "           \n",
    "        \n",
    "    def gaussian_copula(self):\n",
    "        \n",
    "        \"\"\"\n",
    "        Converts all column distributions to standard normal \n",
    "        \"\"\"\n",
    "        \n",
    "        if self.distr_computed:\n",
    "            \n",
    "            # going through the rows\n",
    "            for index, row in self.df.iterrows():\n",
    "                values = {}\n",
    "                initial_vect = np.array(row)\n",
    "                transformed_vect = np.zeros(len(initial_vect))\n",
    "                \n",
    "                #going through the columns\n",
    "                for i, attribute in enumerate(self.df):\n",
    "                    \n",
    "                    # getting distribution of the column\n",
    "                    distr = getattr(stats, self.distributions[attribute].distribution_name)\n",
    "                    param = self.distributions[attribute].param\n",
    "                    norm = getattr(stats, \"norm\")\n",
    "                    \n",
    "                    # converting value to get standard normal distribution\n",
    "                    transformed_vect[i] = norm.ppf(distr.cdf(initial_vect[i], *param[:-2], loc=param[-2], \\\n",
    "                                                             scale=param[-1]))\n",
    "                    #transformed_vect[i] = norm.ppf(distr.cdf(initial_vect[i]))\n",
    "                    values[attribute] = transformed_vect[i]\n",
    "            \n",
    "                # adding normed results to a new data-frame\n",
    "                new_row = pd.Series(values, name=\"new row\")\n",
    "                self.df_normed = self.df_normed.append(new_row, ignore_index=True)\n",
    "                \n",
    "            with pd.option_context('mode.use_inf_as_null', True):\n",
    "                self.df_normed = self.df_normed.dropna()\n",
    "                \n",
    "        else:\n",
    "            raise ValueError('Must compute the distributions first.')            \n",
    "        \n",
    "\n",
    "    def sample(self):\n",
    "        \n",
    "        \"\"\"\n",
    "        :return: generated_row, numpy array (data-frame row) computed as a sample of the modeled distribution\n",
    "        \"\"\"\n",
    "        \n",
    "        if not self.df_normed.empty:\n",
    "            \n",
    "            # computing covariance matrix for the normed data-frame\n",
    "            cov_matrix = self.df_normed.cov()\n",
    "            cov_matrix = np.array(cov_matrix)\n",
    "            nb_col = self.df_normed.shape[1]\n",
    "            \n",
    "            # computing cholesky decomposition\n",
    "            L = cholesky(cov_matrix)\n",
    "\n",
    "            mean = np.zeros(nb_col)\n",
    "            cov = np.eye(nb_col)\n",
    "\n",
    "            # generating new vector according to formula\n",
    "            V = np.random.multivariate_normal(mean, cov)\n",
    "            U = L@V\n",
    "            generated_row = np.zeros(nb_col)\n",
    "            for i, attribute in enumerate(self.df):\n",
    "                distr = getattr(stats, self.distributions[attribute].distribution_name)  \n",
    "                param = self.distributions[attribute].param\n",
    "                norm = getattr(stats, \"norm\")\n",
    "                generated_row[i] = distr.ppf(norm.cdf(U[i]), *param[:-2], loc=param[-2], scale=param[-1])\n",
    "                \n",
    "            return generated_row\n",
    "            \n",
    "        else:\n",
    "            raise ValueError (\"Must run gaussian_copula method first.\")\n",
    "            \n",
    "    \n",
    "    def generate_data(self, size):\n",
    "    \n",
    "        \"\"\"\n",
    "        Generates a data-frame of required size\n",
    "        :param size: int, number of rows that will be generated\n",
    "        :return: pandas data-frame with generated values\n",
    "        \"\"\"\n",
    "    \n",
    "        df_gen = pd.DataFrame(columns=self.df.columns)\n",
    "        for index in range(size):\n",
    "            values = {}\n",
    "            row = self.sample()\n",
    "            for i, attribute in enumerate(df_gen):\n",
    "                values[attribute] = row[i]\n",
    "            new_row = pd.Series(values, name=\"new row\")\n",
    "            df_gen = df_gen.append(new_row, ignore_index=True)\n",
    "        return df_gen\n",
    "        \n",
    "        \n",
    "    def plot_distributions(self, fitted_distr=True, lab=\"Actual\"):\n",
    "        \n",
    "        \"\"\"\n",
    "        Plots the distribution of each attribute of the main data-frame\n",
    "        :param fitted_distr: bool (indicates is fitted distributions will be plotted on top of \n",
    "        initial distributions)\n",
    "        :param lab: string, label for initial data\n",
    "        \"\"\"\n",
    "        \n",
    "        if self.distr_computed:\n",
    "            for attribute in self.df:\n",
    "                fig, ax = plt.subplots()\n",
    "                self.distributions[attribute].plot(self.df[attribute], attribute, ax, fitted_distr, lab)\n",
    "                plt.show()\n",
    "        else:\n",
    "            raise ValueError('Must compute the distributions first.')\n",
    "            \n",
    "            \n",
    "            "
   ]
  },
  {
   "cell_type": "markdown",
   "metadata": {},
   "source": [
    "### Fitting distributions to attributes"
   ]
  },
  {
   "cell_type": "markdown",
   "metadata": {},
   "source": [
    "We create a Model instance for our toy data-frame.\n",
    "\n",
    "We compute the best fitted distribution (and associated parameters) for each attribute of our toy data-frame. \n",
    "\n",
    "To do so we use a predefined list of distributions. For each type of distribution, we use the fit method of scipy.stats in order to compute the best parameters.\n",
    "\n",
    "Then, for each type of distribution and associated parameters, we use the __Kolmgorov-Smirnov test__ from scipy.stats to determine which distribution fits the best.\n",
    "\n",
    "The idea behind this method is that the empirical cdf of an attribute $X_n = (X_1, ..., X_n)$ can be computed trough the following formula, $\\forall x \\in \\mathbb{R}$:\n",
    "$$\\hat{F}_n(x) = \\frac{1}{n}\\sum_{i=1}^n \\mathbb{1}_{X_i \\leq x} $$\n",
    "The test is built on the following hypothesis ($F$ being the unknown distribution of our empirical data, and $F_0$ being one of our predefined well-known distributions): \n",
    "$$H_0 = \\{F = F_0\\}, \\quad H_1 = \\{F \\neq F_0\\}$$\n",
    "With the statistic:\n",
    "$$\\xi_n = \\underset{x \\in \\mathbb{R}}{\\sup} |\\hat{F}_n(x) - F(x)|$$\n",
    "\n",
    "We compute this test for all of our known distributions and associated $F_0$, and define the best distribution as the one that has the __higher p-value__ for this test. Indeed, for a given value of the test statistic, the p-value assesses how likely it is that this value be due to random fluctuations of the sample: the smaller the p-value, the more unlikely the realization under $H_0$ (and the more we should be encouraged to reject $H_0$). In other words, the p-value represents the likelihood that the data matches a particular distribution."
   ]
  },
  {
   "cell_type": "code",
   "execution_count": 18,
   "metadata": {},
   "outputs": [
    {
     "name": "stdout",
     "output_type": "stream",
     "text": [
      "The distribution that fits the best attribute DISTANCE is expon\n",
      "The pvalue is 0.011450506829860175  with the following parametrers: (0.0, 778.388)\n",
      "\n",
      "\n",
      "The distribution that fits the best attribute ORIGIN_AIRPORT_ID_NUM is exponweib\n",
      "The pvalue is 0.883358451900452  with the following parametrers: (0.00863164193789388, 110.27743771778859, 0.013081971378632318, 0.9842735378048388)\n",
      "\n",
      "\n",
      "The distribution that fits the best attribute DEST_AIRPORT_ID_NUM is exponweib\n",
      "The pvalue is 0.9209846877587317  with the following parametrers: (0.04644571984525876, 21.423277383973595, 0.003853771783621481, 0.9696558280097395)\n",
      "\n",
      "\n"
     ]
    }
   ],
   "source": [
    "Mod = Model(df_sample_num)\n",
    "Mod.compute_distributions()"
   ]
  },
  {
   "cell_type": "markdown",
   "metadata": {},
   "source": [
    "In order to be able to compare visually, we plot for each attribute the empirical distribution, and its corresponding fitted distribution."
   ]
  },
  {
   "cell_type": "code",
   "execution_count": 19,
   "metadata": {
    "scrolled": true
   },
   "outputs": [
    {
     "data": {
      "image/png": "[encoded data removed]",
      "text/plain": [
       "<Figure size 432x288 with 1 Axes>"
      ]
     },
     "metadata": {
      "needs_background": "light"
     },
     "output_type": "display_data"
    },
    {
     "data": {
      "image/png": "[encoded data removed]",
      "text/plain": [
       "<Figure size 432x288 with 1 Axes>"
      ]
     },
     "metadata": {
      "needs_background": "light"
     },
     "output_type": "display_data"
    },
    {
     "data": {
      "image/png": "[encoded data removed]",
      "text/plain": [
       "<Figure size 432x288 with 1 Axes>"
      ]
     },
     "metadata": {
      "needs_background": "light"
     },
     "output_type": "display_data"
    }
   ],
   "source": [
    "Mod.plot_distributions()"
   ]
  },
  {
   "cell_type": "markdown",
   "metadata": {},
   "source": [
    "### Gaussian copula to normalize the data"
   ]
  },
  {
   "cell_type": "markdown",
   "metadata": {},
   "source": [
    "We perform a Gaussian Copula method in order to convert all of the column distributions to standard normal distributions so that the covariance matrix $M$ of the data-frame can be computed without any bias that would be induced by the distribution's shape."
   ]
  },
  {
   "cell_type": "markdown",
   "metadata": {},
   "source": [
    "\n",
    "\n",
    "In order to do so we go through the table row by row and consider each row as a vector:\n",
    "$$X = [x_0, ..., x_{n-1}]$$\n",
    "We convert the row using the following formula:\n",
    "$$[x_0, ..., x_{n-1}] \\leftarrow [\\phi^{-1}(F_0(x_0)), ..., \\phi^{-1}(F_{n-1}(x_{n-1}))]$$\n",
    "\n",
    "Where $\\forall i \\in \\{0, ..., n-1\\} $, $F_i$ is the cumulative distribution function (cdf) of our fitted distribution for attribute $i$, and $\\phi^{-1}$ is the inverse cdf of the standard normal distribution."
   ]
  },
  {
   "cell_type": "code",
   "execution_count": 20,
   "metadata": {},
   "outputs": [],
   "source": [
    "Mod.gaussian_copula()"
   ]
  },
  {
   "cell_type": "markdown",
   "metadata": {},
   "source": [
    "We display the normalized data-frame:"
   ]
  },
  {
   "cell_type": "code",
   "execution_count": 21,
   "metadata": {},
   "outputs": [
    {
     "data": {
      "text/html": [
       "<div>\n",
       "<style scoped>\n",
       "    .dataframe tbody tr th:only-of-type {\n",
       "        vertical-align: middle;\n",
       "    }\n",
       "\n",
       "    .dataframe tbody tr th {\n",
       "        vertical-align: top;\n",
       "    }\n",
       "\n",
       "    .dataframe thead th {\n",
       "        text-align: right;\n",
       "    }\n",
       "</style>\n",
       "<table border=\"1\" class=\"dataframe\">\n",
       "  <thead>\n",
       "    <tr style=\"text-align: right;\">\n",
       "      <th></th>\n",
       "      <th>DISTANCE</th>\n",
       "      <th>ORIGIN_AIRPORT_ID_NUM</th>\n",
       "      <th>DEST_AIRPORT_ID_NUM</th>\n",
       "    </tr>\n",
       "  </thead>\n",
       "  <tbody>\n",
       "    <tr>\n",
       "      <th>0</th>\n",
       "      <td>-0.698853</td>\n",
       "      <td>-0.167988</td>\n",
       "      <td>0.016343</td>\n",
       "    </tr>\n",
       "    <tr>\n",
       "      <th>1</th>\n",
       "      <td>-0.881828</td>\n",
       "      <td>-0.165645</td>\n",
       "      <td>0.043286</td>\n",
       "    </tr>\n",
       "    <tr>\n",
       "      <th>2</th>\n",
       "      <td>-1.161018</td>\n",
       "      <td>-0.177929</td>\n",
       "      <td>0.118518</td>\n",
       "    </tr>\n",
       "    <tr>\n",
       "      <th>3</th>\n",
       "      <td>-1.172189</td>\n",
       "      <td>-0.162215</td>\n",
       "      <td>-0.109464</td>\n",
       "    </tr>\n",
       "    <tr>\n",
       "      <th>4</th>\n",
       "      <td>-0.698853</td>\n",
       "      <td>0.125918</td>\n",
       "      <td>-0.666458</td>\n",
       "    </tr>\n",
       "    <tr>\n",
       "      <th>...</th>\n",
       "      <td>...</td>\n",
       "      <td>...</td>\n",
       "      <td>...</td>\n",
       "    </tr>\n",
       "    <tr>\n",
       "      <th>495</th>\n",
       "      <td>-1.057820</td>\n",
       "      <td>-0.600808</td>\n",
       "      <td>1.548774</td>\n",
       "    </tr>\n",
       "    <tr>\n",
       "      <th>496</th>\n",
       "      <td>-0.954320</td>\n",
       "      <td>-0.663063</td>\n",
       "      <td>2.310303</td>\n",
       "    </tr>\n",
       "    <tr>\n",
       "      <th>497</th>\n",
       "      <td>-1.668116</td>\n",
       "      <td>-0.604403</td>\n",
       "      <td>1.391712</td>\n",
       "    </tr>\n",
       "    <tr>\n",
       "      <th>498</th>\n",
       "      <td>-1.082301</td>\n",
       "      <td>-0.616339</td>\n",
       "      <td>0.806976</td>\n",
       "    </tr>\n",
       "    <tr>\n",
       "      <th>499</th>\n",
       "      <td>-1.082301</td>\n",
       "      <td>-0.641464</td>\n",
       "      <td>0.803719</td>\n",
       "    </tr>\n",
       "  </tbody>\n",
       "</table>\n",
       "<p>496 rows × 3 columns</p>\n",
       "</div>"
      ],
      "text/plain": [
       "     DISTANCE  ORIGIN_AIRPORT_ID_NUM  DEST_AIRPORT_ID_NUM\n",
       "0   -0.698853              -0.167988             0.016343\n",
       "1   -0.881828              -0.165645             0.043286\n",
       "2   -1.161018              -0.177929             0.118518\n",
       "3   -1.172189              -0.162215            -0.109464\n",
       "4   -0.698853               0.125918            -0.666458\n",
       "..        ...                    ...                  ...\n",
       "495 -1.057820              -0.600808             1.548774\n",
       "496 -0.954320              -0.663063             2.310303\n",
       "497 -1.668116              -0.604403             1.391712\n",
       "498 -1.082301              -0.616339             0.806976\n",
       "499 -1.082301              -0.641464             0.803719\n",
       "\n",
       "[496 rows x 3 columns]"
      ]
     },
     "execution_count": 21,
     "metadata": {},
     "output_type": "execute_result"
    }
   ],
   "source": [
    "Mod.df_normed"
   ]
  },
  {
   "cell_type": "markdown",
   "metadata": {},
   "source": [
    "We plot the histograms of distributions in Copula space in order to visually check that they follow standard normal distributions."
   ]
  },
  {
   "cell_type": "code",
   "execution_count": 22,
   "metadata": {},
   "outputs": [
    {
     "data": {
      "image/png": "[encoded data removed]",
      "text/plain": [
       "<Figure size 432x288 with 1 Axes>"
      ]
     },
     "metadata": {
      "needs_background": "light"
     },
     "output_type": "display_data"
    },
    {
     "data": {
      "image/png": "[encoded data removed]",
      "text/plain": [
       "<Figure size 432x288 with 1 Axes>"
      ]
     },
     "metadata": {
      "needs_background": "light"
     },
     "output_type": "display_data"
    },
    {
     "data": {
      "image/png": "[encoded data removed]",
      "text/plain": [
       "<Figure size 432x288 with 1 Axes>"
      ]
     },
     "metadata": {
      "needs_background": "light"
     },
     "output_type": "display_data"
    }
   ],
   "source": [
    "Mod2 = Model(Mod.df_normed)\n",
    "Mod2.compute_distributions(display_results=False)\n",
    "Mod2.plot_distributions(fitted_distr=False)"
   ]
  },
  {
   "cell_type": "markdown",
   "metadata": {},
   "source": [
    "### Data generation"
   ]
  },
  {
   "cell_type": "markdown",
   "metadata": {},
   "source": [
    "We can then generate new rows. The idea is to draw samples according to the covariance matrix in copula space M, and then convert these samples back to the original space. To do so, we use the following algorithm for each row:\n",
    "- we generate a random vector V of size $(n-1)$ x $1$ of uncorrelated random variables with each random variable $V_i$ is normal with zero mean and unit covariance $1$. We notice that as V has zero mean, the covariance matrix of V can be written:\n",
    "\n",
    "$$C(V) = \\mathbb{E}(VV^T) = I_n$$\n",
    "\n",
    "- In order to generate a random vector whose covariance matrix is M, we perform the Cholesky decomposition of M (this is possible since by definition the covariance is symmetric and positive definite): \n",
    "\n",
    "$$M = LL^T$$ \n",
    "\n",
    "- We then compute the vector $U = LV$. $U$ __has by construction M as covariance matrix__. Indeed, as $\\mathbb{E}(V) = 0$, we have $\\mathbb{E}(U) = 0$ and:\n",
    "\n",
    "$$C(U) = \\mathbb{E}(UU^T) = \\mathbb{E}(LVV^TL^T) = L\\mathbb{E}(VV^T)L^T = LL^T = M$$\n",
    "\n",
    "- We then go back to the original space by applying the inverse of the Gaussian Copula:\n",
    "\n",
    "$$[u_0, ..., u_{n-1}] \\leftarrow [F_0^{-1}(\\phi (u_0)), ..., F_{n-1}^{-1}(\\phi (u_{n-1}))]$$"
   ]
  },
  {
   "cell_type": "markdown",
   "metadata": {},
   "source": [
    "We choose the number of sample we would like to generate:"
   ]
  },
  {
   "cell_type": "code",
   "execution_count": 23,
   "metadata": {},
   "outputs": [],
   "source": [
    "size_of_generation = 500"
   ]
  },
  {
   "cell_type": "code",
   "execution_count": 24,
   "metadata": {},
   "outputs": [],
   "source": [
    "df_gen = Mod.generate_data(size_of_generation)"
   ]
  },
  {
   "cell_type": "code",
   "execution_count": 25,
   "metadata": {},
   "outputs": [
    {
     "data": {
      "text/html": [
       "<div>\n",
       "<style scoped>\n",
       "    .dataframe tbody tr th:only-of-type {\n",
       "        vertical-align: middle;\n",
       "    }\n",
       "\n",
       "    .dataframe tbody tr th {\n",
       "        vertical-align: top;\n",
       "    }\n",
       "\n",
       "    .dataframe thead th {\n",
       "        text-align: right;\n",
       "    }\n",
       "</style>\n",
       "<table border=\"1\" class=\"dataframe\">\n",
       "  <thead>\n",
       "    <tr style=\"text-align: right;\">\n",
       "      <th></th>\n",
       "      <th>DISTANCE</th>\n",
       "      <th>ORIGIN_AIRPORT_ID_NUM</th>\n",
       "      <th>DEST_AIRPORT_ID_NUM</th>\n",
       "    </tr>\n",
       "  </thead>\n",
       "  <tbody>\n",
       "    <tr>\n",
       "      <th>0</th>\n",
       "      <td>1444.313371</td>\n",
       "      <td>0.832199</td>\n",
       "      <td>0.462555</td>\n",
       "    </tr>\n",
       "    <tr>\n",
       "      <th>1</th>\n",
       "      <td>417.266313</td>\n",
       "      <td>0.072669</td>\n",
       "      <td>0.068567</td>\n",
       "    </tr>\n",
       "    <tr>\n",
       "      <th>2</th>\n",
       "      <td>261.738937</td>\n",
       "      <td>0.170154</td>\n",
       "      <td>0.145839</td>\n",
       "    </tr>\n",
       "    <tr>\n",
       "      <th>3</th>\n",
       "      <td>788.151446</td>\n",
       "      <td>0.728179</td>\n",
       "      <td>0.554992</td>\n",
       "    </tr>\n",
       "    <tr>\n",
       "      <th>4</th>\n",
       "      <td>2212.801243</td>\n",
       "      <td>0.025102</td>\n",
       "      <td>0.809954</td>\n",
       "    </tr>\n",
       "    <tr>\n",
       "      <th>...</th>\n",
       "      <td>...</td>\n",
       "      <td>...</td>\n",
       "      <td>...</td>\n",
       "    </tr>\n",
       "    <tr>\n",
       "      <th>495</th>\n",
       "      <td>2413.751010</td>\n",
       "      <td>0.162346</td>\n",
       "      <td>0.290902</td>\n",
       "    </tr>\n",
       "    <tr>\n",
       "      <th>496</th>\n",
       "      <td>661.782616</td>\n",
       "      <td>0.433620</td>\n",
       "      <td>0.875474</td>\n",
       "    </tr>\n",
       "    <tr>\n",
       "      <th>497</th>\n",
       "      <td>99.586615</td>\n",
       "      <td>0.651698</td>\n",
       "      <td>0.727765</td>\n",
       "    </tr>\n",
       "    <tr>\n",
       "      <th>498</th>\n",
       "      <td>784.161978</td>\n",
       "      <td>0.791870</td>\n",
       "      <td>0.386715</td>\n",
       "    </tr>\n",
       "    <tr>\n",
       "      <th>499</th>\n",
       "      <td>364.641629</td>\n",
       "      <td>0.348994</td>\n",
       "      <td>0.516635</td>\n",
       "    </tr>\n",
       "  </tbody>\n",
       "</table>\n",
       "<p>500 rows × 3 columns</p>\n",
       "</div>"
      ],
      "text/plain": [
       "        DISTANCE  ORIGIN_AIRPORT_ID_NUM  DEST_AIRPORT_ID_NUM\n",
       "0    1444.313371               0.832199             0.462555\n",
       "1     417.266313               0.072669             0.068567\n",
       "2     261.738937               0.170154             0.145839\n",
       "3     788.151446               0.728179             0.554992\n",
       "4    2212.801243               0.025102             0.809954\n",
       "..           ...                    ...                  ...\n",
       "495  2413.751010               0.162346             0.290902\n",
       "496   661.782616               0.433620             0.875474\n",
       "497    99.586615               0.651698             0.727765\n",
       "498   784.161978               0.791870             0.386715\n",
       "499   364.641629               0.348994             0.516635\n",
       "\n",
       "[500 rows x 3 columns]"
      ]
     },
     "execution_count": 25,
     "metadata": {},
     "output_type": "execute_result"
    }
   ],
   "source": [
    "df_gen"
   ]
  },
  {
   "cell_type": "markdown",
   "metadata": {},
   "source": [
    "We compare graphically the generated data with the initial data:"
   ]
  },
  {
   "cell_type": "code",
   "execution_count": 26,
   "metadata": {
    "scrolled": true
   },
   "outputs": [],
   "source": [
    "Mod_gen = Model(df_gen)\n",
    "Mod_gen.compute_distributions(display_results=False)"
   ]
  },
  {
   "cell_type": "code",
   "execution_count": 27,
   "metadata": {},
   "outputs": [
    {
     "data": {
      "image/png": "[encoded data removed]",
      "text/plain": [
       "<Figure size 432x288 with 1 Axes>"
      ]
     },
     "metadata": {
      "needs_background": "light"
     },
     "output_type": "display_data"
    },
    {
     "data": {
      "image/png": "[encoded data removed]",
      "text/plain": [
       "<Figure size 432x288 with 1 Axes>"
      ]
     },
     "metadata": {
      "needs_background": "light"
     },
     "output_type": "display_data"
    },
    {
     "data": {
      "image/png": "[encoded data removed]",
      "text/plain": [
       "<Figure size 432x288 with 1 Axes>"
      ]
     },
     "metadata": {
      "needs_background": "light"
     },
     "output_type": "display_data"
    }
   ],
   "source": [
    "for attribute in Mod_gen.df:\n",
    "    fig, ax = plt.subplots()\n",
    "    Mod_gen.distributions[attribute].plot(Mod_gen.df[attribute], attribute, ax, fitted_distr=False, lab=\"Generated data\")\n",
    "    Mod.distributions[attribute].plot(Mod.df[attribute], attribute, ax, fitted_distr=False, lab=\"Initial data\")\n",
    "    plt.show()\n"
   ]
  },
  {
   "cell_type": "markdown",
   "metadata": {},
   "source": [
    "## 6. Data post-processing"
   ]
  },
  {
   "cell_type": "markdown",
   "metadata": {},
   "source": [
    "We can then convert back our categorical data from numerical to categorical, by using the intervals we had defined during the pre-processing."
   ]
  },
  {
   "cell_type": "markdown",
   "metadata": {},
   "source": [
    "In order to do so, for a value $v \\in [0, 1]$, we simply compute the interval it belongs to and return the associated discrete category."
   ]
  },
  {
   "cell_type": "code",
   "execution_count": 28,
   "metadata": {},
   "outputs": [],
   "source": [
    "def numerical_to_categorical(df, categorical_fields, transitional_dfs):\n",
    "    \n",
    "    \"\"\"\n",
    "    Converts numerical data back to categorical\n",
    "    :param categorical_fields: list of strings (attribute names that have to be converted from numerical \n",
    "    to categorical)\n",
    "    :param transitional_dfs: dictionary returned by categorical_to_numerical function\n",
    "    :return:\n",
    "    \"\"\"\n",
    "  \n",
    "    df_final = df.copy()\n",
    "    for categorical_field in categorical_fields:\n",
    "        for index, row in df.iterrows():\n",
    "            discrete_value = 0\n",
    "            \n",
    "            # searching for the corresponding interval\n",
    "            for index2, row2 in transitional_dfs[categorical_field].iterrows():\n",
    "                if row2[\"interval_down\"]<=df[categorical_field][index]<= row2[\"interval_up\"]:\n",
    "                    discrete_value = row2[\"unique_values\"]\n",
    "            df_final.loc[index, categorical_field] = discrete_value\n",
    "    return df_final"
   ]
  },
  {
   "cell_type": "code",
   "execution_count": 29,
   "metadata": {},
   "outputs": [],
   "source": [
    "numerical_to_convert = [\"ORIGIN_AIRPORT_ID_NUM\", \"DEST_AIRPORT_ID_NUM\"]"
   ]
  },
  {
   "cell_type": "code",
   "execution_count": 30,
   "metadata": {
    "scrolled": true
   },
   "outputs": [],
   "source": [
    "df_final = numerical_to_categorical(df_gen, numerical_to_convert, transitional_dfs)"
   ]
  },
  {
   "cell_type": "code",
   "execution_count": 31,
   "metadata": {},
   "outputs": [
    {
     "data": {
      "text/html": [
       "<div>\n",
       "<style scoped>\n",
       "    .dataframe tbody tr th:only-of-type {\n",
       "        vertical-align: middle;\n",
       "    }\n",
       "\n",
       "    .dataframe tbody tr th {\n",
       "        vertical-align: top;\n",
       "    }\n",
       "\n",
       "    .dataframe thead th {\n",
       "        text-align: right;\n",
       "    }\n",
       "</style>\n",
       "<table border=\"1\" class=\"dataframe\">\n",
       "  <thead>\n",
       "    <tr style=\"text-align: right;\">\n",
       "      <th></th>\n",
       "      <th>DISTANCE</th>\n",
       "      <th>ORIGIN_AIRPORT_ID_NUM</th>\n",
       "      <th>DEST_AIRPORT_ID_NUM</th>\n",
       "    </tr>\n",
       "  </thead>\n",
       "  <tbody>\n",
       "    <tr>\n",
       "      <th>0</th>\n",
       "      <td>1444.313371</td>\n",
       "      <td>15534.0</td>\n",
       "      <td>12892.0</td>\n",
       "    </tr>\n",
       "    <tr>\n",
       "      <th>1</th>\n",
       "      <td>417.266313</td>\n",
       "      <td>16091.0</td>\n",
       "      <td>16091.0</td>\n",
       "    </tr>\n",
       "    <tr>\n",
       "      <th>2</th>\n",
       "      <td>261.738937</td>\n",
       "      <td>11193.0</td>\n",
       "      <td>11193.0</td>\n",
       "    </tr>\n",
       "    <tr>\n",
       "      <th>3</th>\n",
       "      <td>788.151446</td>\n",
       "      <td>13487.0</td>\n",
       "      <td>12266.0</td>\n",
       "    </tr>\n",
       "    <tr>\n",
       "      <th>4</th>\n",
       "      <td>2212.801243</td>\n",
       "      <td>16091.0</td>\n",
       "      <td>12853.0</td>\n",
       "    </tr>\n",
       "    <tr>\n",
       "      <th>...</th>\n",
       "      <td>...</td>\n",
       "      <td>...</td>\n",
       "      <td>...</td>\n",
       "    </tr>\n",
       "    <tr>\n",
       "      <th>495</th>\n",
       "      <td>2413.751010</td>\n",
       "      <td>13061.0</td>\n",
       "      <td>11042.0</td>\n",
       "    </tr>\n",
       "    <tr>\n",
       "      <th>496</th>\n",
       "      <td>661.782616</td>\n",
       "      <td>14730.0</td>\n",
       "      <td>11430.0</td>\n",
       "    </tr>\n",
       "    <tr>\n",
       "      <th>497</th>\n",
       "      <td>99.586615</td>\n",
       "      <td>11996.0</td>\n",
       "      <td>11057.0</td>\n",
       "    </tr>\n",
       "    <tr>\n",
       "      <th>498</th>\n",
       "      <td>784.161978</td>\n",
       "      <td>11540.0</td>\n",
       "      <td>13303.0</td>\n",
       "    </tr>\n",
       "    <tr>\n",
       "      <th>499</th>\n",
       "      <td>364.641629</td>\n",
       "      <td>13930.0</td>\n",
       "      <td>15304.0</td>\n",
       "    </tr>\n",
       "  </tbody>\n",
       "</table>\n",
       "<p>500 rows × 3 columns</p>\n",
       "</div>"
      ],
      "text/plain": [
       "        DISTANCE  ORIGIN_AIRPORT_ID_NUM  DEST_AIRPORT_ID_NUM\n",
       "0    1444.313371                15534.0              12892.0\n",
       "1     417.266313                16091.0              16091.0\n",
       "2     261.738937                11193.0              11193.0\n",
       "3     788.151446                13487.0              12266.0\n",
       "4    2212.801243                16091.0              12853.0\n",
       "..           ...                    ...                  ...\n",
       "495  2413.751010                13061.0              11042.0\n",
       "496   661.782616                14730.0              11430.0\n",
       "497    99.586615                11996.0              11057.0\n",
       "498   784.161978                11540.0              13303.0\n",
       "499   364.641629                13930.0              15304.0\n",
       "\n",
       "[500 rows x 3 columns]"
      ]
     },
     "execution_count": 31,
     "metadata": {},
     "output_type": "execute_result"
    }
   ],
   "source": [
    "df_final"
   ]
  },
  {
   "cell_type": "markdown",
   "metadata": {},
   "source": [
    "## 5. Quality assessment"
   ]
  },
  {
   "cell_type": "markdown",
   "metadata": {},
   "source": [
    "### Closeness to real data"
   ]
  },
  {
   "cell_type": "code",
   "execution_count": 38,
   "metadata": {},
   "outputs": [],
   "source": [
    "class closeness():\n",
    "    \n",
    "    \"\"\"\n",
    "    Graphical display of closeness between original and generated data \n",
    "    \"\"\"\n",
    "    \n",
    "    def __init__(self, init, gen):\n",
    "        self.initial_df = init\n",
    "        self.generated_df = gen\n",
    "        self.correlations = {}\n",
    "      \n",
    "        \n",
    "    def computes_correlations(self):\n",
    "        \n",
    "        \"\"\"\n",
    "        Computes in numpy arrays pairwise Pearson correlation coefficients for initial and generated data\n",
    "        \"\"\"\n",
    "        \n",
    "        self.correlations[\"initial\"] = np.zeros((len(self.initial_df.columns), len(self.initial_df.columns)))\n",
    "        self.correlations[\"generated\"] = np.zeros((len(self.generated_df.columns), len(self.generated_df.columns)))\n",
    "    \n",
    "        # pairwise coefficients for initial data\n",
    "        for index1, col1 in enumerate(self.initial_df.columns):\n",
    "            for index2, col2 in enumerate(self.initial_df.columns):\n",
    "                self.correlations[\"initial\"][index1, index2] = pearsonr(self.initial_df[col1].to_numpy(), \\\n",
    "                                                                        self.initial_df[col2].to_numpy())[0]\n",
    "        # pariwise coefficients for generated data\n",
    "        for index1, col1 in enumerate(self.generated_df.columns):\n",
    "            for index2, col2 in enumerate(self.generated_df.columns):\n",
    "                self.correlations[\"generated\"][index1, index2] = pearsonr(self.generated_df[col1].to_numpy(), \\\n",
    "                                                                          self.generated_df[col2].to_numpy())[0]\n",
    "            \n",
    "         \n",
    "    def set_ax_heatmap(self, ax, hmap, absc, ordo, title):\n",
    "        \n",
    "        \"\"\"\n",
    "        Sets ax in order to compute 2D heatmap\n",
    "        :param ax: matplotlib ax for display\n",
    "        :param hmap: 2D numpy array of pariwise pearson correlation coefficients\n",
    "        :param absc, ordo: list of strings (column names)\n",
    "        :param title: string (title of ax for display)\n",
    "        :return: matplotlib ax with adjustments for display\n",
    "        \"\"\"\n",
    "        \n",
    "        ax.set_xticks(np.arange(len(absc)))\n",
    "        ax.set_yticks(np.arange(len(ordo)))\n",
    "        \n",
    "        # labels\n",
    "        ax.set_xticklabels(absc)\n",
    "        ax.set_yticklabels(ordo)\n",
    "\n",
    "        # Rotation and alignment of xlabels\n",
    "        plt.setp(ax.get_xticklabels(), rotation=45, ha=\"right\",\n",
    "                 rotation_mode=\"anchor\")\n",
    "\n",
    "        # displaying actual values\n",
    "        for i in range(len(absc)):\n",
    "            for j in range(len(ordo)):\n",
    "                text = ax.text(j, i, np.round(hmap[i, j], 2), ha=\"center\", va=\"center\", color=\"w\")\n",
    "        \n",
    "        # title\n",
    "        ax.set_title(title)\n",
    "        \n",
    "        return ax\n",
    "    \n",
    "    \n",
    "        \n",
    "    def pearson_plot(self):\n",
    "        \n",
    "        \"\"\"\n",
    "        Computes a 2D heatmap of pairwise Pearson correlations \n",
    "        \"\"\"\n",
    "        \n",
    "        # computing correlation matrices\n",
    "        self.computes_correlations()\n",
    "        \n",
    "        # labels for axes\n",
    "        absc1, absc2 = self.initial_df.columns, self.generated_df.columns\n",
    "        ordo1, ordo2 = self.initial_df.columns, self.generated_df.columns\n",
    "        \n",
    "        # computing heatmaps\n",
    "        hmap1, hmap2 = self.correlations[\"initial\"], self.correlations[\"generated\"]\n",
    "        \n",
    "        # displaying the results\n",
    "        fig, ax = plt.subplots(1, 2, figsize=(10, 10))\n",
    "        ax[0] = self.set_ax_heatmap( ax[0], hmap1, absc1, ordo1, \"Initial pairwise Pearson correlations\")\n",
    "        ax[1] = self.set_ax_heatmap( ax[1], hmap2, absc2, ordo2, \"Generated pairwise Pearson correlations\")\n",
    "        fig.tight_layout()\n",
    "        ax[0].imshow(hmap1, cmap=plt.cm.pink, alpha=0.9)\n",
    "        ax[1].imshow(hmap2, cmap=plt.cm.pink, alpha=0.9)\n",
    "    \n",
    "        \n",
    "        \n",
    "        "
   ]
  },
  {
   "cell_type": "code",
   "execution_count": 39,
   "metadata": {},
   "outputs": [],
   "source": [
    "res = closeness(df_sample_num, df_gen)"
   ]
  },
  {
   "cell_type": "code",
   "execution_count": 40,
   "metadata": {},
   "outputs": [
    {
     "data": {
      "image/png": "[encoded data removed]",
      "text/plain": [
       "<Figure size 720x720 with 2 Axes>"
      ]
     },
     "metadata": {
      "needs_background": "light"
     },
     "output_type": "display_data"
    }
   ],
   "source": [
    "res.pearson_plot()"
   ]
  },
  {
   "cell_type": "code",
   "execution_count": null,
   "metadata": {},
   "outputs": [],
   "source": []
  }
 ],
 "metadata": {
  "kernelspec": {
   "display_name": "Python 3",
   "language": "python",
   "name": "python3"
  },
  "language_info": {
   "codemirror_mode": {
    "name": "ipython",
    "version": 3
   },
   "file_extension": ".py",
   "mimetype": "text/x-python",
   "name": "python",
   "nbconvert_exporter": "python",
   "pygments_lexer": "ipython3",
   "version": "3.7.3"
  }
 },
 "nbformat": 4,
 "nbformat_minor": 4
}
